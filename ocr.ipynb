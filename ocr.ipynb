{
 "cells": [
  {
   "cell_type": "code",
   "execution_count": 18,
   "id": "6914df5c",
   "metadata": {},
   "outputs": [],
   "source": [
    "import os\n",
    "import cv2\n",
    "from PIL import Image\n",
    "import numpy as np\n",
    "import imutils\n",
    "from imutils import contours\n",
    "import matplotlib.pyplot as plt\n",
    "from emnist import extract_training_samples\n",
    "%matplotlib inline"
   ]
  },
  {
   "cell_type": "code",
   "execution_count": 19,
   "id": "2674cee7",
   "metadata": {},
   "outputs": [],
   "source": [
    "def image_show(i, data, label):\n",
    "    x = data[i]  # get the vectorized image\n",
    "    x = x.reshape((28, 28))  # reshape it into 28x28 format\n",
    "    print(\"The image label of index %d is %d.\" % (i, label[i]))\n",
    "    plt.imshow(x, cmap=\"gray\")  # show the image"
   ]
  },
  {
   "cell_type": "code",
   "execution_count": 20,
   "id": "43952dd3",
   "metadata": {},
   "outputs": [],
   "source": [
    "def write_image(image, path):\n",
    "    img = Image.fromarray(np.array(image), 'L')\n",
    "    img.save(path)\n",
    "\n",
    "def saveImages(imagesArray, imagesLabels=None):\n",
    "    for idx, img in enumerate(imagesArray):\n",
    "        name = f'{idx}-{imagesLabels[idx]}' if(imagesLabels is not None) else f'{idx}'\n",
    "        write_image(img, f'test/{name}.png')"
   ]
  },
  {
   "cell_type": "code",
   "execution_count": 21,
   "id": "a31859df",
   "metadata": {},
   "outputs": [],
   "source": [
    "# data is a numpy array of shape (x,y,z) => (x, y*z)\n",
    "def flatten3d(data):\n",
    "    dims = data.shape[1] * data.shape[2]\n",
    "    data = data.reshape(data.shape[0], dims)\n",
    "    return data"
   ]
  },
  {
   "cell_type": "code",
   "execution_count": 22,
   "id": "ab21996d",
   "metadata": {},
   "outputs": [],
   "source": [
    "def distance(x,y):\n",
    "    return np.linalg.norm(x-y)"
   ]
  },
  {
   "cell_type": "code",
   "execution_count": 23,
   "id": "5b97ab81",
   "metadata": {},
   "outputs": [
    {
     "data": {
      "text/plain": [
       "17"
      ]
     },
     "execution_count": 23,
     "metadata": {},
     "output_type": "execute_result"
    }
   ],
   "source": [
    "# for small letter a..z\n",
    "def getLetterIdx(letter):\n",
    "    return ord(letter) - ord('a') + 1\n",
    "\n",
    "getLetterIdx('q')"
   ]
  },
  {
   "cell_type": "code",
   "execution_count": 24,
   "id": "b621af20",
   "metadata": {},
   "outputs": [],
   "source": [
    "def kNN(x, k, data, label):\n",
    "    #create a list of distances between the given image and the images of the training set\n",
    "    distances =[distance(x, data[i]) for i in range(len(data))]\n",
    "    # Use \"np.argpartition\". It does not sort the entire array. \n",
    "    # It only guarantees that the kth element is in sorted position \n",
    "    # and all smaller elements will be moved before it. \n",
    "    # Thus the first k elements will be the k-smallest elements.\n",
    "    idx = np.argpartition(distances, k)\n",
    "    clas, freq = np.unique(label[idx[:k]], return_counts=True)\n",
    "    return clas[np.argmax(freq)]"
   ]
  },
  {
   "cell_type": "code",
   "execution_count": 25,
   "id": "1c436f5c",
   "metadata": {},
   "outputs": [],
   "source": [
    "def accuracy_set(data, label, train_data, train_label, k):\n",
    "    cnt = 0\n",
    "    predictions = []\n",
    "    # print(f\"labels: {label}\")\n",
    "    for x, lab in zip(data, label):\n",
    "        pred = kNN(x, k, train_data, train_label)\n",
    "        predictions.append(pred)\n",
    "        if pred == lab:\n",
    "            cnt += 1\n",
    "    # print(f\"predec: {predictions}\")\n",
    "    # return f\"{cnt/len(label) * 100}%\"\n",
    "    return [pred, cnt/len(label)]"
   ]
  },
  {
   "cell_type": "code",
   "execution_count": 26,
   "id": "cd888c24",
   "metadata": {},
   "outputs": [
    {
     "name": "stdout",
     "output_type": "stream",
     "text": [
      "(124800, 28, 28)\n",
      "(240000, 28, 28)\n",
      "(112800, 28, 28)\n",
      "(124800,)\n",
      "(240000,)\n",
      "(112800,)\n",
      "min: 0, max: 46\n"
     ]
    }
   ],
   "source": [
    "# extract letters and digits datasets\n",
    "letters_train, letters_labels_train = extract_training_samples(\"letters\")\n",
    "digits_train, digits_labels_train = extract_training_samples(\"digits\")\n",
    "balanced_train, balanced_labels_train = extract_training_samples(\"balanced\")\n",
    "\n",
    "# Check shape of training data\n",
    "print(letters_train.shape)\n",
    "print(digits_train.shape)\n",
    "print(balanced_train.shape)\n",
    "\n",
    "# Check shape of training labels\n",
    "print(letters_labels_train.shape)\n",
    "print(digits_labels_train.shape)\n",
    "print(balanced_labels_train.shape)\n",
    "\n",
    "print(f\"min: {min(balanced_labels_train)}, max: {max(balanced_labels_train)}\")"
   ]
  },
  {
   "cell_type": "code",
   "execution_count": 27,
   "id": "52ce69b9",
   "metadata": {
    "scrolled": true
   },
   "outputs": [
    {
     "name": "stdout",
     "output_type": "stream",
     "text": [
      "Training Letters Shape: (124800, 784)\n",
      "Training Digits Shape: (240000, 784)\n",
      "Training Balanced Shape: (112800, 784)\n"
     ]
    }
   ],
   "source": [
    "# Flatten Data and Tests\n",
    "letters_train = flatten3d(letters_train)\n",
    "digits_train = flatten3d(digits_train)\n",
    "balanced_train = flatten3d(balanced_train)\n",
    "\n",
    "print(\"Training Letters Shape:\", letters_train.shape)\n",
    "print(\"Training Digits Shape:\", digits_train.shape)\n",
    "print(\"Training Balanced Shape:\", balanced_train.shape)"
   ]
  },
  {
   "cell_type": "code",
   "execution_count": 28,
   "id": "5574c119",
   "metadata": {},
   "outputs": [
    {
     "name": "stdout",
     "output_type": "stream",
     "text": [
      "The image label of index 3509 is 41.\n"
     ]
    },
    {
     "data": {
      "image/png": "[encoded data removed]",
      "text/plain": [
       "<Figure size 432x288 with 1 Axes>"
      ]
     },
     "metadata": {
      "needs_background": "light"
     },
     "output_type": "display_data"
    }
   ],
   "source": [
    "# classes[0..9] are digits\n",
    "# classes[10..35] are [A..Z]\n",
    "# classes[36..46] are [a,b,d,e,f,g,h,n,q,r,t]\n",
    "idx = np.where(balanced_labels_train == 41)\n",
    "image_show(idx[0][80], balanced_train, balanced_labels_train)"
   ]
  },
  {
   "cell_type": "code",
   "execution_count": 29,
   "id": "ed494226",
   "metadata": {},
   "outputs": [],
   "source": [
    "def get_digits(plate_dir='plate'):\n",
    "    data = []\n",
    "    files = []\n",
    "    for filename in os.listdir(plate_dir):\n",
    "        files.append(filename)\n",
    "    files.sort()\n",
    "    for filename in files:\n",
    "        img = cv2.imread(f'{plate_dir}/{filename}')\n",
    "        img = 255 - img\n",
    "        img = cv2.resize(img, (28, 28))\n",
    "        img = cv2.cvtColor(img, cv2.COLOR_BGR2GRAY)\n",
    "        # plt.imshow(img, cmap=\"gray\")\n",
    "        img = img.flatten()\n",
    "        predictions = [0 for i in range(0, 9+1)]\n",
    "        for k in [3, 5, 7]:\n",
    "            pred = kNN(img, k, digits_train, digits_labels_train)\n",
    "            predictions[pred] += 1\n",
    "        maxIdx = predictions.index(max(predictions))         \n",
    "        data.append(str(maxIdx))\n",
    "    return data"
   ]
  },
  {
   "cell_type": "code",
   "execution_count": 30,
   "id": "ecebada5",
   "metadata": {},
   "outputs": [],
   "source": [
    "def get_letters(plate_dir):\n",
    "    data = []\n",
    "    files = []\n",
    "    for filename in os.listdir(plate_dir):\n",
    "        files.append(filename)\n",
    "    files.sort()\n",
    "    for filename in files:\n",
    "        img = cv2.imread(f'{plate_dir}/{filename}')\n",
    "        img = 255 - img\n",
    "        img = cv2.resize(img, (28, 28))\n",
    "        img = cv2.cvtColor(img, cv2.COLOR_BGR2GRAY)\n",
    "        # plt.imshow(img, cmap=\"gray\")\n",
    "        img = img.flatten()\n",
    "        predictions = [0 for i in range(0, 26+1)]\n",
    "        for k in [3, 5, 7]:\n",
    "            pred = kNN(img, k, letters_train, letters_labels_train)\n",
    "            predictions[pred] += 1\n",
    "        maxIdx = predictions.index(max(predictions))         \n",
    "        data.append(chr(maxIdx + ord('a') - 1))\n",
    "    return data"
   ]
  },
  {
   "cell_type": "code",
   "execution_count": 31,
   "id": "13b6085f",
   "metadata": {},
   "outputs": [],
   "source": [
    "def get_balanced(plate_dir):\n",
    "    data = []\n",
    "    files = []\n",
    "    labels = \\\n",
    "        [x for x in range(0, 9+1)] + \\\n",
    "        [chr(x+ord('A')) for x in range(0,25+1)] + \\\n",
    "        ['a','b','d','e','f','g','h','n','q','r','t']\n",
    "    for filename in os.listdir(plate_dir):\n",
    "        files.append(filename)\n",
    "    files.sort()\n",
    "    for filename in files:\n",
    "        img = cv2.imread(f'{plate_dir}/{filename}')\n",
    "        img = 255 - img\n",
    "        img = cv2.resize(img, (28, 28))\n",
    "        img = cv2.cvtColor(img, cv2.COLOR_BGR2GRAY)\n",
    "        # plt.imshow(img, cmap=\"gray\")\n",
    "        img = img.flatten()\n",
    "        predictions = [0 for i in range(len(labels))]\n",
    "        for k in [3, 5, 7]:\n",
    "            pred = kNN(img, k, balanced_train, balanced_labels_train)\n",
    "            predictions[pred] += 1\n",
    "        maxIdx = predictions.index(max(predictions))         \n",
    "        data.append(labels[maxIdx])\n",
    "    return data"
   ]
  },
  {
   "cell_type": "code",
   "execution_count": 32,
   "id": "6c40faf5",
   "metadata": {},
   "outputs": [],
   "source": [
    "# takes RGB cropped plate number like images/pic1.jpg\n",
    "def extract_text(cropped_plate):\n",
    "    image = cv2.imread(cropped_plate)\n",
    "    mask = np.zeros(image.shape, dtype=np.uint8)\n",
    "\n",
    "    gray = cv2.cvtColor(image, cv2.COLOR_BGR2GRAY)\n",
    "    thresh = cv2.threshold(gray, 0, 255, cv2.THRESH_BINARY_INV + cv2.THRESH_OTSU)[1]\n",
    "\n",
    "    cnts = cv2.findContours(thresh, cv2.RETR_TREE, cv2.CHAIN_APPROX_SIMPLE)\n",
    "    cnts = cnts[0] if len(cnts) == 2 else cnts[1]\n",
    "    (cnts, _) = imutils.contours.sort_contours(cnts, method=\"left-to-right\")\n",
    "    ROI_number = 0\n",
    "    for c in cnts:\n",
    "        area = cv2.contourArea(c)\n",
    "        if area < 800 and area > 200:\n",
    "            x,y,w,h = cv2.boundingRect(c)\n",
    "            ROI = 255 - thresh[y:y+h, x:x+w]\n",
    "            cv2.drawContours(mask, [c], -1, (255,255,255), -1)\n",
    "            cv2.imwrite('images/plate/ROI_{}.png'.format(ROI_number), ROI)\n",
    "            ROI_number += 1\n",
    "\n",
    "    plt.imshow(mask, cmap=\"gray\")\n",
    "    plt.imshow(thresh, cmap=\"gray\")"
   ]
  },
  {
   "cell_type": "code",
   "execution_count": 33,
   "id": "5ce6736e",
   "metadata": {},
   "outputs": [
    {
     "data": {
      "image/png": "[encoded data removed]",
      "text/plain": [
       "<Figure size 432x288 with 1 Axes>"
      ]
     },
     "metadata": {
      "needs_background": "light"
     },
     "output_type": "display_data"
    }
   ],
   "source": [
    "extract_text('images/pic1.jpg')"
   ]
  },
  {
   "cell_type": "code",
   "execution_count": 34,
   "id": "881bc008",
   "metadata": {},
   "outputs": [
    {
     "data": {
      "text/plain": [
       "['M', 'X', 'F', 5, 'I', 'B', 'I']"
      ]
     },
     "execution_count": 34,
     "metadata": {},
     "output_type": "execute_result"
    }
   ],
   "source": [
    "# best is to use balanced dataset\n",
    "res = get_balanced('images/plate')\n",
    "res"
   ]
  },
  {
   "cell_type": "code",
   "execution_count": null,
   "id": "e703f6a2",
   "metadata": {},
   "outputs": [],
   "source": []
  },
  {
   "cell_type": "code",
   "execution_count": null,
   "id": "90105279",
   "metadata": {},
   "outputs": [],
   "source": []
  },
  {
   "cell_type": "code",
   "execution_count": 35,
   "id": "81a3e37e",
   "metadata": {},
   "outputs": [
    {
     "name": "stdout",
     "output_type": "stream",
     "text": [
      "['0', '8', '6', '5', '2', '0', '2']\n"
     ]
    }
   ],
   "source": [
    "res = get_digits('images/plate')\n",
    "print(res)"
   ]
  },
  {
   "cell_type": "code",
   "execution_count": 36,
   "id": "ef0b7ea9",
   "metadata": {},
   "outputs": [
    {
     "name": "stdout",
     "output_type": "stream",
     "text": [
      "['m', 'x', 'f', 'b', 'i', 'u', 'z']\n"
     ]
    }
   ],
   "source": [
    "res = get_letters('images/plate')\n",
    "print(res)"
   ]
  },
  {
   "cell_type": "code",
   "execution_count": null,
   "id": "c04fb532",
   "metadata": {},
   "outputs": [],
   "source": []
  }
 ],
 "metadata": {
  "kernelspec": {
   "display_name": "Python 3",
   "language": "python",
   "name": "python3"
  },
  "language_info": {
   "codemirror_mode": {
    "name": "ipython",
    "version": 3
   },
   "file_extension": ".py",
   "mimetype": "text/x-python",
   "name": "python",
   "nbconvert_exporter": "python",
   "pygments_lexer": "ipython3",
   "version": "3.8.8"
  }
 },
 "nbformat": 4,
 "nbformat_minor": 5
}
